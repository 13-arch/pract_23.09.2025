{
 "cells": [
  {
   "cell_type": "code",
   "execution_count": 1,
   "metadata": {},
   "outputs": [],
   "source": [
    "from selenium import webdriver\n",
    "from selenium.webdriver.common.by import By\n",
    "from selenium.webdriver.common.keys import Keys\n",
    "import pandas as pd\n",
    "import time\n",
    "from bs4 import BeautifulSoup\n",
    "from selenium.webdriver.support.ui import WebDriverWait\n",
    "from selenium.webdriver.support import expected_conditions as EC\n",
    "from selenium.webdriver.chrome.options import Options\n",
    "from selenium.webdriver.chrome.service import Service"
   ]
  },
  {
   "cell_type": "code",
   "execution_count": 2,
   "metadata": {},
   "outputs": [],
   "source": [
    "from selenium import webdriver\n",
    "\n",
    "driver=webdriver.Chrome()\n",
    "\n",
    "driver.get(\"https://catalog.onliner.by/mobile\")"
   ]
  },
  {
   "cell_type": "code",
   "execution_count": 3,
   "metadata": {},
   "outputs": [],
   "source": [
    "# Собираем все ссылки на объявления с выбранной страницы\n",
    "def get_all_links_on_page():\n",
    "    elements = driver.find_elements(By.CLASS_NAME, value='catalog-form__link')\n",
    "    # elements = driver.find_elements(by=By.CSS_SELECTOR, value=\"#container > div > div > div > div > div.catalog-content > div.catalog-wrapper > div > div > div.catalog-form__tabs > div > div > div > div > div.catalog-form__filter-part.catalog-form__filter-part_2 > div.catalog-form__offers > div > div:nth-child(1) > div > div > div.catalog-form__offers-part.catalog-form__offers-part_data > div.catalog-form__description.catalog-form__description_primary.catalog-form__description_base-additional.catalog-form__description_font-weight_semibold.catalog-form__description_condensed-other > a\")\n",
    "    # <a href=\"https://catalog.onliner.by/mobile/xiaomi/redmi15c8256ebk\" class=\"catalog-form__link catalog-form__link_primary-additional catalog-form__link_base-additional catalog-form__link_font-weight_semibold catalog-form__link_nodecor\"> Телефон Xiaomi Redmi 15C 4G 8GB/256GB международная версия (черный) </a>\n",
    "    ads_list = []\n",
    "    for element in elements:\n",
    "        ads_list.append(element.get_attribute('href'))\n",
    "        # print(element.get_attribute('href'), '\\n')\n",
    "\n",
    "    return ads_list"
   ]
  },
  {
   "cell_type": "code",
   "execution_count": 4,
   "metadata": {},
   "outputs": [],
   "source": [
    "links = get_all_links_on_page()"
   ]
  },
  {
   "cell_type": "code",
   "execution_count": 5,
   "metadata": {},
   "outputs": [
    {
     "data": {
      "text/plain": [
       "['https://tech.onliner.by/2025/03/13/top-10-smartfonov-vesna-2025?utm_source=guide_button&utm_medium=topmobile24',\n",
       " None,\n",
       " None,\n",
       " 'https://catalog.onliner.by/mobile/xiaomi/redmi154g256eti/prices',\n",
       " None,\n",
       " None,\n",
       " 'https://catalog.onliner.by/mobile/xiaomi/redmi154g256eti',\n",
       " 'https://forum.onliner.by/viewtopic.php?t=26102423',\n",
       " 'https://catalog.onliner.by/mobile/xiaomi/redmi15c8256ebk/prices',\n",
       " None,\n",
       " None,\n",
       " 'https://catalog.onliner.by/mobile/xiaomi/redmi15c8256ebk',\n",
       " 'https://forum.onliner.by/viewtopic.php?t=26098041',\n",
       " 'https://catalog.onliner.by/mobile/poco/pocox7pro8256ye1/prices',\n",
       " None,\n",
       " None,\n",
       " 'https://catalog.onliner.by/mobile/poco/pocox7pro8256ye1',\n",
       " 'https://forum.onliner.by/viewtopic.php?t=26065751',\n",
       " 'https://catalog.onliner.by/mobile/apple/iphone17256bk/prices',\n",
       " 'https://catalog.onliner.by/mobile/apple/iphone17256bk',\n",
       " 'https://catalog.onliner.by/mobile/apple/iphone17256bk/reviews/create',\n",
       " 'https://forum.onliner.by/viewtopic.php?t=26105506',\n",
       " 'https://catalog.onliner.by/mobile/apple/ip17pro256co/prices',\n",
       " None,\n",
       " None,\n",
       " 'https://catalog.onliner.by/mobile/apple/ip17pro256co',\n",
       " 'https://catalog.onliner.by/mobile/apple/ip17pro256co/reviews/create',\n",
       " 'https://forum.onliner.by/viewtopic.php?t=26105646',\n",
       " 'https://catalog.onliner.by/mobile/apple/ip17promax256db/prices',\n",
       " None,\n",
       " None,\n",
       " 'https://catalog.onliner.by/mobile/apple/ip17promax256db',\n",
       " 'https://catalog.onliner.by/mobile/apple/ip17promax256db/reviews/create',\n",
       " 'https://forum.onliner.by/viewtopic.php?t=26105644']"
      ]
     },
     "execution_count": 5,
     "metadata": {},
     "output_type": "execute_result"
    }
   ],
   "source": [
    "links"
   ]
  },
  {
   "cell_type": "code",
   "execution_count": 6,
   "metadata": {},
   "outputs": [],
   "source": [
    "# Переход на следующую страницу через нажатие на кнопку\n",
    "def click_next_page():\n",
    "    clickable_element = WebDriverWait(driver, 10).until(\n",
    "        EC.element_to_be_clickable((By.XPATH, '/html/body/div[2]/div/div/div/div/div/div/div/div/div[2]/div[1]/div/div/div[4]/div/div/div/div/div[3]/div[3]/a'))\n",
    "    )\n",
    "\n",
    "    clickable_element.click()"
   ]
  },
  {
   "cell_type": "code",
   "execution_count": 7,
   "metadata": {},
   "outputs": [
    {
     "data": {
      "text/plain": [
       "34"
      ]
     },
     "execution_count": 7,
     "metadata": {},
     "output_type": "execute_result"
    }
   ],
   "source": [
    "len(links)"
   ]
  },
  {
   "cell_type": "code",
   "execution_count": 8,
   "metadata": {},
   "outputs": [
    {
     "data": {
      "text/plain": [
       "15"
      ]
     },
     "execution_count": 8,
     "metadata": {},
     "output_type": "execute_result"
    }
   ],
   "source": [
    "clear_links = []\n",
    "\n",
    "for item in links:\n",
    "    if item == None or 'forum.' in item or 'tech.' in item:\n",
    "        pass\n",
    "    else:\n",
    "        clear_links.append(item)\n",
    "\n",
    "len(clear_links)"
   ]
  },
  {
   "cell_type": "code",
   "execution_count": 9,
   "metadata": {},
   "outputs": [
    {
     "data": {
      "text/plain": [
       "6"
      ]
     },
     "execution_count": 9,
     "metadata": {},
     "output_type": "execute_result"
    }
   ],
   "source": [
    "very_clear_links = []\n",
    "\n",
    "for item in clear_links:\n",
    "    if 'prices' in item or 'reviews' in item:\n",
    "        pass\n",
    "    else:\n",
    "        very_clear_links.append(item)\n",
    "\n",
    "len(very_clear_links)"
   ]
  },
  {
   "cell_type": "code",
   "execution_count": 10,
   "metadata": {},
   "outputs": [
    {
     "data": {
      "text/plain": [
       "['https://catalog.onliner.by/mobile/xiaomi/redmi154g256eti',\n",
       " 'https://catalog.onliner.by/mobile/xiaomi/redmi15c8256ebk',\n",
       " 'https://catalog.onliner.by/mobile/poco/pocox7pro8256ye1',\n",
       " 'https://catalog.onliner.by/mobile/apple/iphone17256bk',\n",
       " 'https://catalog.onliner.by/mobile/apple/ip17pro256co',\n",
       " 'https://catalog.onliner.by/mobile/apple/ip17promax256db']"
      ]
     },
     "execution_count": 10,
     "metadata": {},
     "output_type": "execute_result"
    }
   ],
   "source": [
    "very_clear_links"
   ]
  },
  {
   "cell_type": "code",
   "execution_count": 19,
   "metadata": {},
   "outputs": [],
   "source": [
    "import pandas as pd\n",
    "\n",
    "column = ['Name', 'Type', 'operating system', 'RAM capacity', 'Built-in memory capacity', 'Number of dots in the main camera matrix', 'Link']\n",
    "\n",
    "df = pd.DataFrame(columns = column)"
   ]
  },
  {
   "cell_type": "code",
   "execution_count": 22,
   "metadata": {},
   "outputs": [
    {
     "data": {
      "text/html": [
       "<div>\n",
       "<style scoped>\n",
       "    .dataframe tbody tr th:only-of-type {\n",
       "        vertical-align: middle;\n",
       "    }\n",
       "\n",
       "    .dataframe tbody tr th {\n",
       "        vertical-align: top;\n",
       "    }\n",
       "\n",
       "    .dataframe thead th {\n",
       "        text-align: right;\n",
       "    }\n",
       "</style>\n",
       "<table border=\"1\" class=\"dataframe\">\n",
       "  <thead>\n",
       "    <tr style=\"text-align: right;\">\n",
       "      <th></th>\n",
       "      <th>Name</th>\n",
       "      <th>Type</th>\n",
       "      <th>operating system</th>\n",
       "      <th>RAM capacity</th>\n",
       "      <th>Built-in memory capacity</th>\n",
       "      <th>Number of dots in the main camera matrix</th>\n",
       "      <th>Link</th>\n",
       "    </tr>\n",
       "  </thead>\n",
       "  <tbody>\n",
       "  </tbody>\n",
       "</table>\n",
       "</div>"
      ],
      "text/plain": [
       "Empty DataFrame\n",
       "Columns: [Name, Type, operating system, RAM capacity, Built-in memory capacity, Number of dots in the main camera matrix, Link]\n",
       "Index: []"
      ]
     },
     "execution_count": 22,
     "metadata": {},
     "output_type": "execute_result"
    }
   ],
   "source": [
    "df"
   ]
  },
  {
   "cell_type": "code",
   "execution_count": 23,
   "metadata": {},
   "outputs": [],
   "source": [
    "driver.get(\"https://catalog.onliner.by/mobile/apple/iphone17256lb\")"
   ]
  },
  {
   "cell_type": "code",
   "execution_count": 34,
   "metadata": {},
   "outputs": [
    {
     "ename": "NoSuchElementException",
     "evalue": "Message: no such element: Unable to locate element: {\"method\":\"xpath\",\"selector\":\"/html/body/div[2]/div/div/div/div/div/div/div/div/div[2]/div[1]/div/div[4]/h1\"}\n  (Session info: chrome=140.0.7339.129); For documentation on this error, please visit: https://www.selenium.dev/documentation/webdriver/troubleshooting/errors#nosuchelementexception\nStacktrace:\n\tGetHandleVerifier [0x0x7ff76d4830f5+79493]\n\tGetHandleVerifier [0x0x7ff76d483150+79584]\n\t(No symbol) [0x0x7ff76d2001ba]\n\t(No symbol) [0x0x7ff76d258067]\n\t(No symbol) [0x0x7ff76d25832c]\n\t(No symbol) [0x0x7ff76d2abe27]\n\t(No symbol) [0x0x7ff76d28074f]\n\t(No symbol) [0x0x7ff76d2a8b8b]\n\t(No symbol) [0x0x7ff76d2804e3]\n\t(No symbol) [0x0x7ff76d248e92]\n\t(No symbol) [0x0x7ff76d249c63]\n\tGetHandleVerifier [0x0x7ff76d740dbd+2954061]\n\tGetHandleVerifier [0x0x7ff76d73b02a+2930106]\n\tGetHandleVerifier [0x0x7ff76d75b357+3061991]\n\tGetHandleVerifier [0x0x7ff76d49d60e+187294]\n\tGetHandleVerifier [0x0x7ff76d4a557f+219919]\n\tGetHandleVerifier [0x0x7ff76d48c294+116772]\n\tGetHandleVerifier [0x0x7ff76d48c449+117209]\n\tGetHandleVerifier [0x0x7ff76d472618+11176]\n\tBaseThreadInitThunk [0x0x7ffd62c87374+20]\n\tRtlUserThreadStart [0x0x7ffd64c5cc91+33]\n",
     "output_type": "error",
     "traceback": [
      "\u001b[1;31m---------------------------------------------------------------------------\u001b[0m",
      "\u001b[1;31mNoSuchElementException\u001b[0m                    Traceback (most recent call last)",
      "Cell \u001b[1;32mIn[34], line 1\u001b[0m\n\u001b[1;32m----> 1\u001b[0m name \u001b[38;5;241m=\u001b[39m \u001b[43mdriver\u001b[49m\u001b[38;5;241;43m.\u001b[39;49m\u001b[43mfind_element\u001b[49m\u001b[43m(\u001b[49m\u001b[43mBy\u001b[49m\u001b[38;5;241;43m.\u001b[39;49m\u001b[43mXPATH\u001b[49m\u001b[43m,\u001b[49m\u001b[43m \u001b[49m\u001b[43mvalue\u001b[49m\u001b[43m \u001b[49m\u001b[38;5;241;43m=\u001b[39;49m\u001b[43m \u001b[49m\u001b[38;5;124;43m'\u001b[39;49m\u001b[38;5;124;43m/html/body/div[2]/div/div/div/div/div/div/div/div/div[2]/div[1]/div/div[4]/h1\u001b[39;49m\u001b[38;5;124;43m'\u001b[39;49m\u001b[43m)\u001b[49m\u001b[38;5;241m.\u001b[39mget_attribute(\u001b[38;5;124m'\u001b[39m\u001b[38;5;124mtextContent\u001b[39m\u001b[38;5;124m'\u001b[39m)\n\u001b[0;32m      2\u001b[0m name\n",
      "File \u001b[1;32m~\\AppData\\Roaming\\Python\\Python312\\site-packages\\selenium\\webdriver\\remote\\webdriver.py:926\u001b[0m, in \u001b[0;36mWebDriver.find_element\u001b[1;34m(self, by, value)\u001b[0m\n\u001b[0;32m    923\u001b[0m         \u001b[38;5;28;01mraise\u001b[39;00m NoSuchElementException(\u001b[38;5;124mf\u001b[39m\u001b[38;5;124m\"\u001b[39m\u001b[38;5;124mCannot locate relative element with: \u001b[39m\u001b[38;5;132;01m{\u001b[39;00mby\u001b[38;5;241m.\u001b[39mroot\u001b[38;5;132;01m}\u001b[39;00m\u001b[38;5;124m\"\u001b[39m)\n\u001b[0;32m    924\u001b[0m     \u001b[38;5;28;01mreturn\u001b[39;00m elements[\u001b[38;5;241m0\u001b[39m]\n\u001b[1;32m--> 926\u001b[0m \u001b[38;5;28;01mreturn\u001b[39;00m \u001b[38;5;28;43mself\u001b[39;49m\u001b[38;5;241;43m.\u001b[39;49m\u001b[43mexecute\u001b[49m\u001b[43m(\u001b[49m\u001b[43mCommand\u001b[49m\u001b[38;5;241;43m.\u001b[39;49m\u001b[43mFIND_ELEMENT\u001b[49m\u001b[43m,\u001b[49m\u001b[43m \u001b[49m\u001b[43m{\u001b[49m\u001b[38;5;124;43m\"\u001b[39;49m\u001b[38;5;124;43musing\u001b[39;49m\u001b[38;5;124;43m\"\u001b[39;49m\u001b[43m:\u001b[49m\u001b[43m \u001b[49m\u001b[43mby\u001b[49m\u001b[43m,\u001b[49m\u001b[43m \u001b[49m\u001b[38;5;124;43m\"\u001b[39;49m\u001b[38;5;124;43mvalue\u001b[39;49m\u001b[38;5;124;43m\"\u001b[39;49m\u001b[43m:\u001b[49m\u001b[43m \u001b[49m\u001b[43mvalue\u001b[49m\u001b[43m}\u001b[49m\u001b[43m)\u001b[49m[\u001b[38;5;124m\"\u001b[39m\u001b[38;5;124mvalue\u001b[39m\u001b[38;5;124m\"\u001b[39m]\n",
      "File \u001b[1;32m~\\AppData\\Roaming\\Python\\Python312\\site-packages\\selenium\\webdriver\\remote\\webdriver.py:458\u001b[0m, in \u001b[0;36mWebDriver.execute\u001b[1;34m(self, driver_command, params)\u001b[0m\n\u001b[0;32m    455\u001b[0m response \u001b[38;5;241m=\u001b[39m cast(RemoteConnection, \u001b[38;5;28mself\u001b[39m\u001b[38;5;241m.\u001b[39mcommand_executor)\u001b[38;5;241m.\u001b[39mexecute(driver_command, params)\n\u001b[0;32m    457\u001b[0m \u001b[38;5;28;01mif\u001b[39;00m response:\n\u001b[1;32m--> 458\u001b[0m     \u001b[38;5;28;43mself\u001b[39;49m\u001b[38;5;241;43m.\u001b[39;49m\u001b[43merror_handler\u001b[49m\u001b[38;5;241;43m.\u001b[39;49m\u001b[43mcheck_response\u001b[49m\u001b[43m(\u001b[49m\u001b[43mresponse\u001b[49m\u001b[43m)\u001b[49m\n\u001b[0;32m    459\u001b[0m     response[\u001b[38;5;124m\"\u001b[39m\u001b[38;5;124mvalue\u001b[39m\u001b[38;5;124m\"\u001b[39m] \u001b[38;5;241m=\u001b[39m \u001b[38;5;28mself\u001b[39m\u001b[38;5;241m.\u001b[39m_unwrap_value(response\u001b[38;5;241m.\u001b[39mget(\u001b[38;5;124m\"\u001b[39m\u001b[38;5;124mvalue\u001b[39m\u001b[38;5;124m\"\u001b[39m, \u001b[38;5;28;01mNone\u001b[39;00m))\n\u001b[0;32m    460\u001b[0m     \u001b[38;5;28;01mreturn\u001b[39;00m response\n",
      "File \u001b[1;32m~\\AppData\\Roaming\\Python\\Python312\\site-packages\\selenium\\webdriver\\remote\\errorhandler.py:232\u001b[0m, in \u001b[0;36mErrorHandler.check_response\u001b[1;34m(self, response)\u001b[0m\n\u001b[0;32m    230\u001b[0m         alert_text \u001b[38;5;241m=\u001b[39m value[\u001b[38;5;124m\"\u001b[39m\u001b[38;5;124malert\u001b[39m\u001b[38;5;124m\"\u001b[39m]\u001b[38;5;241m.\u001b[39mget(\u001b[38;5;124m\"\u001b[39m\u001b[38;5;124mtext\u001b[39m\u001b[38;5;124m\"\u001b[39m)\n\u001b[0;32m    231\u001b[0m     \u001b[38;5;28;01mraise\u001b[39;00m exception_class(message, screen, stacktrace, alert_text)  \u001b[38;5;66;03m# type: ignore[call-arg]  # mypy is not smart enough here\u001b[39;00m\n\u001b[1;32m--> 232\u001b[0m \u001b[38;5;28;01mraise\u001b[39;00m exception_class(message, screen, stacktrace)\n",
      "\u001b[1;31mNoSuchElementException\u001b[0m: Message: no such element: Unable to locate element: {\"method\":\"xpath\",\"selector\":\"/html/body/div[2]/div/div/div/div/div/div/div/div/div[2]/div[1]/div/div[4]/h1\"}\n  (Session info: chrome=140.0.7339.129); For documentation on this error, please visit: https://www.selenium.dev/documentation/webdriver/troubleshooting/errors#nosuchelementexception\nStacktrace:\n\tGetHandleVerifier [0x0x7ff76d4830f5+79493]\n\tGetHandleVerifier [0x0x7ff76d483150+79584]\n\t(No symbol) [0x0x7ff76d2001ba]\n\t(No symbol) [0x0x7ff76d258067]\n\t(No symbol) [0x0x7ff76d25832c]\n\t(No symbol) [0x0x7ff76d2abe27]\n\t(No symbol) [0x0x7ff76d28074f]\n\t(No symbol) [0x0x7ff76d2a8b8b]\n\t(No symbol) [0x0x7ff76d2804e3]\n\t(No symbol) [0x0x7ff76d248e92]\n\t(No symbol) [0x0x7ff76d249c63]\n\tGetHandleVerifier [0x0x7ff76d740dbd+2954061]\n\tGetHandleVerifier [0x0x7ff76d73b02a+2930106]\n\tGetHandleVerifier [0x0x7ff76d75b357+3061991]\n\tGetHandleVerifier [0x0x7ff76d49d60e+187294]\n\tGetHandleVerifier [0x0x7ff76d4a557f+219919]\n\tGetHandleVerifier [0x0x7ff76d48c294+116772]\n\tGetHandleVerifier [0x0x7ff76d48c449+117209]\n\tGetHandleVerifier [0x0x7ff76d472618+11176]\n\tBaseThreadInitThunk [0x0x7ffd62c87374+20]\n\tRtlUserThreadStart [0x0x7ffd64c5cc91+33]\n"
     ]
    }
   ],
   "source": [
    "name = driver.find_element(By.XPATH, value = '/html/body/div[2]/div/div/div/div/div/div/div/div/div[2]/div[1]/div/div[4]/h1').get_attribute('textContent')\n",
    "name"
   ]
  },
  {
   "cell_type": "code",
   "execution_count": null,
   "metadata": {},
   "outputs": [],
   "source": [
    "type = driver.find_element(By.XPATH, value = '/html/body/div[2]/div/div/div/div/div/div/div/div/div[2]/div[1]/main/div/div/div[4]/div[2]/div/table/tbody[2]/tr[2]/td[2]/span').get_attribute('textContent')\n",
    "operating_system = driver.find_element(By.XPATH, value = '/html/body/div[2]/div/div/div/div/div/div/div/div/div[2]/div[1]/main/div/div/div[4]/div[2]/div/table/tbody[2]/tr[3]/td[2]/span').get_attribute('textContent')\n",
    "RAM_capacity = driver.find_element(By.XPATH, value = '/html/body/div[2]/div/div/div/div/div/div/div/div/div[2]/div[1]/main/div/div/div[4]/div[2]/div/table/tbody[2]/tr[9]/td[2]/span').get_attribute('textContent')\n",
    "memory_capacity = driver.find_element(By.XPATH, value = '/html/body/div[2]/div/div/div/div/div/div/div/div/div[2]/div[1]/main/div/div/div[4]/div[2]/div/table/tbody[2]/tr[11]/td[2]/span').get_attribute('textContent')\n",
    "camera_matrix = driver.find_element(By.XPATH, value = '/html/body/div[2]/div/div/div/div/div/div/div/div/div[2]/div[1]/main/div/div/div[4]/div[2]/div/table/tbody[2]/tr[12]/td[2]/span').get_attribute('textContent')\n",
    "print(type, operating_system, RAM_capacity,memory_capacity, camera_matrix)"
   ]
  },
  {
   "cell_type": "code",
   "execution_count": 24,
   "metadata": {},
   "outputs": [
    {
     "ename": "NameError",
     "evalue": "name 'name' is not defined",
     "output_type": "error",
     "traceback": [
      "\u001b[1;31m---------------------------------------------------------------------------\u001b[0m",
      "\u001b[1;31mNameError\u001b[0m                                 Traceback (most recent call last)",
      "Cell \u001b[1;32mIn[24], line 1\u001b[0m\n\u001b[1;32m----> 1\u001b[0m df\u001b[38;5;241m.\u001b[39mloc[\u001b[38;5;241m0\u001b[39m] \u001b[38;5;241m=\u001b[39m [\u001b[43mname\u001b[49m, \u001b[38;5;28mtype\u001b[39m, operating_system, RAM_capacity,memory_capacity, camera_matrix, links[\u001b[38;5;241m-\u001b[39m\u001b[38;5;241m1\u001b[39m]]\n\u001b[0;32m      2\u001b[0m df\n",
      "\u001b[1;31mNameError\u001b[0m: name 'name' is not defined"
     ]
    }
   ],
   "source": [
    "df.loc[0] = [name, type, operating_system, RAM_capacity,memory_capacity, camera_matrix, links[-1]]\n",
    "df"
   ]
  },
  {
   "cell_type": "code",
   "execution_count": 25,
   "metadata": {},
   "outputs": [
    {
     "data": {
      "text/html": [
       "<div>\n",
       "<style scoped>\n",
       "    .dataframe tbody tr th:only-of-type {\n",
       "        vertical-align: middle;\n",
       "    }\n",
       "\n",
       "    .dataframe tbody tr th {\n",
       "        vertical-align: top;\n",
       "    }\n",
       "\n",
       "    .dataframe thead th {\n",
       "        text-align: right;\n",
       "    }\n",
       "</style>\n",
       "<table border=\"1\" class=\"dataframe\">\n",
       "  <thead>\n",
       "    <tr style=\"text-align: right;\">\n",
       "      <th></th>\n",
       "      <th>Name</th>\n",
       "      <th>Type</th>\n",
       "      <th>operating system</th>\n",
       "      <th>RAM capacity</th>\n",
       "      <th>Built-in memory capacity</th>\n",
       "      <th>Number of dots in the main camera matrix</th>\n",
       "      <th>Link</th>\n",
       "    </tr>\n",
       "  </thead>\n",
       "  <tbody>\n",
       "    <tr>\n",
       "      <th>2</th>\n",
       "      <td>None</td>\n",
       "      <td>None</td>\n",
       "      <td>None</td>\n",
       "      <td>None</td>\n",
       "      <td>None</td>\n",
       "      <td>None</td>\n",
       "      <td>https://catalog.onliner.by/mobile/xiaomi/redmi...</td>\n",
       "    </tr>\n",
       "    <tr>\n",
       "      <th>3</th>\n",
       "      <td>None</td>\n",
       "      <td>None</td>\n",
       "      <td>None</td>\n",
       "      <td>None</td>\n",
       "      <td>None</td>\n",
       "      <td>None</td>\n",
       "      <td>https://catalog.onliner.by/mobile/xiaomi/redmi...</td>\n",
       "    </tr>\n",
       "    <tr>\n",
       "      <th>4</th>\n",
       "      <td>None</td>\n",
       "      <td>None</td>\n",
       "      <td>None</td>\n",
       "      <td>None</td>\n",
       "      <td>None</td>\n",
       "      <td>None</td>\n",
       "      <td>https://catalog.onliner.by/mobile/poco/pocox7p...</td>\n",
       "    </tr>\n",
       "    <tr>\n",
       "      <th>5</th>\n",
       "      <td>None</td>\n",
       "      <td>None</td>\n",
       "      <td>None</td>\n",
       "      <td>None</td>\n",
       "      <td>None</td>\n",
       "      <td>None</td>\n",
       "      <td>https://catalog.onliner.by/mobile/apple/iphone...</td>\n",
       "    </tr>\n",
       "    <tr>\n",
       "      <th>6</th>\n",
       "      <td>None</td>\n",
       "      <td>None</td>\n",
       "      <td>None</td>\n",
       "      <td>None</td>\n",
       "      <td>None</td>\n",
       "      <td>None</td>\n",
       "      <td>https://catalog.onliner.by/mobile/apple/ip17pr...</td>\n",
       "    </tr>\n",
       "    <tr>\n",
       "      <th>7</th>\n",
       "      <td>None</td>\n",
       "      <td>None</td>\n",
       "      <td>None</td>\n",
       "      <td>None</td>\n",
       "      <td>None</td>\n",
       "      <td>None</td>\n",
       "      <td>https://catalog.onliner.by/mobile/apple/ip17pr...</td>\n",
       "    </tr>\n",
       "  </tbody>\n",
       "</table>\n",
       "</div>"
      ],
      "text/plain": [
       "   Name  Type operating system RAM capacity Built-in memory capacity  \\\n",
       "2  None  None             None         None                     None   \n",
       "3  None  None             None         None                     None   \n",
       "4  None  None             None         None                     None   \n",
       "5  None  None             None         None                     None   \n",
       "6  None  None             None         None                     None   \n",
       "7  None  None             None         None                     None   \n",
       "\n",
       "  Number of dots in the main camera matrix  \\\n",
       "2                                     None   \n",
       "3                                     None   \n",
       "4                                     None   \n",
       "5                                     None   \n",
       "6                                     None   \n",
       "7                                     None   \n",
       "\n",
       "                                                Link  \n",
       "2  https://catalog.onliner.by/mobile/xiaomi/redmi...  \n",
       "3  https://catalog.onliner.by/mobile/xiaomi/redmi...  \n",
       "4  https://catalog.onliner.by/mobile/poco/pocox7p...  \n",
       "5  https://catalog.onliner.by/mobile/apple/iphone...  \n",
       "6  https://catalog.onliner.by/mobile/apple/ip17pr...  \n",
       "7  https://catalog.onliner.by/mobile/apple/ip17pr...  "
      ]
     },
     "execution_count": 25,
     "metadata": {},
     "output_type": "execute_result"
    }
   ],
   "source": [
    "iter = 2  # Начинаем с 2, как указано\n",
    "\n",
    "for item in very_clear_links:\n",
    "    driver.get(item)\n",
    "\n",
    "    try:\n",
    "        name = driver.find_element(By.XPATH, value='/html/body/div[2]/div/div/div/div/div/div/div/div/div[2]/div[1]/div/div[4]/h1').get_attribute('textContent')\n",
    "    except:\n",
    "        name = None\n",
    "\n",
    "    try:\n",
    "        type = driver.find_element(By.XPATH, value='/html/body/div[2]/div/div/div/div/div/div/div/div/div[2]/div[1]/main/div/div/div[4]/div[2]/div/table/tbody[2]/tr[2]/td[2]/span').get_attribute('textContent')\n",
    "    except:\n",
    "        type = None\n",
    "\n",
    "    try:\n",
    "        operating_system = driver.find_element(By.XPATH, value='/html/body/div[2]/div/div/div/div/div/div/div/div/div[2]/div[1]/main/div/div/div[4]/div[2]/div/table/tbody[2]/tr[3]/td[2]/span').get_attribute('textContent')\n",
    "    except:\n",
    "        operating_system = None\n",
    "\n",
    "    try:\n",
    "        RAM_capacity = driver.find_element(By.XPATH, value='/html/body/div[2]/div/div/div/div/div/div/div/div/div[2]/div[1]/main/div/div/div[4]/div[2]/div/table/tbody[2]/tr[9]/td[2]/span').get_attribute('textContent')\n",
    "    except:\n",
    "        RAM_capacity = None\n",
    "\n",
    "    try:\n",
    "        memory_capacity = driver.find_element(By.XPATH, value='/html/body/div[2]/div/div/div/div/div/div/div/div/div[2]/div[1]/main/div/div/div[4]/div[2]/div/table/tbody[2]/tr[11]/td[2]/span').get_attribute('textContent')\n",
    "    except:\n",
    "        memory_capacity = None\n",
    "\n",
    "    try:\n",
    "        camera_matrix = driver.find_element(By.XPATH, value='/html/body/div[2]/div/div/div/div/div/div/div/div/div[2]/div[1]/main/div/div/div[4]/div[2]/div/table/tbody[2]/tr[12]/td[2]/span').get_attribute('textContent')\n",
    "    except:\n",
    "        camera_matrix = None\n",
    "\n",
    "    # Добавляем данные в DataFrame\n",
    "    df.loc[iter] = [name, type, operating_system, RAM_capacity, memory_capacity, camera_matrix, item]\n",
    "    iter += 1\n",
    "df"
   ]
  }
 ],
 "metadata": {
  "kernelspec": {
   "display_name": "Python 3",
   "language": "python",
   "name": "python3"
  },
  "language_info": {
   "codemirror_mode": {
    "name": "ipython",
    "version": 3
   },
   "file_extension": ".py",
   "mimetype": "text/x-python",
   "name": "python",
   "nbconvert_exporter": "python",
   "pygments_lexer": "ipython3",
   "version": "3.12.3"
  }
 },
 "nbformat": 4,
 "nbformat_minor": 2
}
